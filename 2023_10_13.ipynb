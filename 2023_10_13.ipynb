{
  "nbformat": 4,
  "nbformat_minor": 0,
  "metadata": {
    "colab": {
      "provenance": []
    },
    "kernelspec": {
      "name": "python3",
      "display_name": "Python 3"
    },
    "language_info": {
      "name": "python"
    }
  },
  "cells": [
    {
      "cell_type": "code",
      "execution_count": 5,
      "metadata": {
        "id": "Vk7SY2ZIypHn",
        "colab": {
          "base_uri": "https://localhost:8080/"
        },
        "outputId": "b5291df7-83bb-4001-fa24-e7c93151fb16"
      },
      "outputs": [
        {
          "output_type": "stream",
          "name": "stdout",
          "text": [
            "Yeh wen ling\n",
            "<class 'str'>\n",
            "b1205039\n",
            "<class 'str'>\n",
            "Name:(Yeh wen lin),Id:(b1205039)\n"
          ]
        }
      ],
      "source": [
        "x=\"Yeh wen ling\"\n",
        "print(x)\n",
        "print (type (x))\n",
        "\n",
        "y=\"b1205039\"\n",
        "print(y)\n",
        "print (type (y))\n",
        "\n",
        "my_dict = {\"name\":\"Yeh wen ling\",\"id\":\"b1205039\"}\n",
        "name = my_dict[\"name\"]\n",
        "id = my_dict[\"id\"]\n",
        "print(f\"Name:(Yeh wen lin),Id:(b1205039)\")\n"
      ]
    }
  ]
}